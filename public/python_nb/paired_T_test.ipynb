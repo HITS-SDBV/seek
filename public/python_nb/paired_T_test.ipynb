{
 "cells": [
  {
   "cell_type": "code",
   "execution_count": null,
   "metadata": {},
   "outputs": [],
   "source": [
    "import numpy as np\n",
    "import pylab as plt\n",
    "import scipy\n",
    "import scipy.stats\n",
    "import json\n",
    "%matplotlib inline"
   ]
  },
  {
   "cell_type": "code",
   "execution_count": null,
   "metadata": {},
   "outputs": [],
   "source": [
    "seek_f = open('JSON_INPUT')"
   ]
  },
  {
   "cell_type": "code",
   "execution_count": null,
   "metadata": {},
   "outputs": [],
   "source": [
    "# now read the file\n",
    "seek_f_content = seek_f.read();\n",
    "seek_f_json = json.loads(seek_f_content);\n",
    "\n",
    "# print for debugging purposes. Also interesting for the user, so leave in.\n",
    "#print(seek_f_json)\n",
    "\n",
    "# unfortunately, js ships the JSON as strings\n",
    "# so we have to find out which integers are our array indices\n",
    "in_keys = seek_f_json[\"marked\"].keys()\n",
    "\n",
    "out_keys = list()\n",
    "for i in in_keys:\n",
    "    out_keys.append(int(i))\n",
    "    \n",
    "# Again: print to cell in order to simplify debugging\n",
    "print(out_keys)"
   ]
  },
  {
   "cell_type": "code",
   "execution_count": null,
   "metadata": {},
   "outputs": [],
   "source": [
    "def float_if(x):\n",
    "    if(x):\n",
    "        return float(x)\n",
    "    else:\n",
    "        return(0)    \n",
    "    \n",
    "def is_float(x):\n",
    "    try:\n",
    "        _ = float(x)\n",
    "        return True;\n",
    "    except ValueError:\n",
    "        return False;\n",
    " "
   ]
  },
  {
   "cell_type": "code",
   "execution_count": null,
   "metadata": {},
   "outputs": [],
   "source": [
    "title1 = seek_f_json[\"marked\"][\"%d\" % out_keys[0]][\"key\"];\n",
    "title2 = seek_f_json[\"marked\"][\"%d\" % out_keys[1]][\"key\"];\n",
    "if(not is_float(seek_f_json[\"marked\"][\"%d\" % out_keys[0]][\"values\"][0])):\n",
    "    title1 = seek_f_json[\"marked\"][\"%d\" % out_keys[0]][\"values\"][0];\n",
    "if(not is_float(seek_f_json[\"marked\"][\"%d\" % out_keys[1]][\"values\"][0])):\n",
    "    title2 = seek_f_json[\"marked\"][\"%d\" % out_keys[1]][\"values\"][0];\n",
    "\n"
   ]
  },
  {
   "cell_type": "code",
   "execution_count": null,
   "metadata": {},
   "outputs": [],
   "source": [
    "print(seek_f_json[\"marked\"][\"%d\" % out_keys[0]][\"values\"][0])"
   ]
  },
  {
   "cell_type": "code",
   "execution_count": null,
   "metadata": {},
   "outputs": [],
   "source": [
    "# Now turn the string values from the array into double values\n",
    "for (i,j) in seek_f_json[\"marked\"].items():\n",
    "    seek_f_json[\"marked\"][i][\"values\"] = list(map(float_if,filter(is_float,j[\"values\"])))"
   ]
  },
  {
   "cell_type": "code",
   "execution_count": null,
   "metadata": {
    "scrolled": true
   },
   "outputs": [],
   "source": [
    "\n",
    "\n",
    "# now, get out the relevant data for the t-test\n",
    "data1 =  seek_f_json[\"marked\"][\"%d\" % out_keys[0]][\"values\"];\n",
    "data2 =  seek_f_json[\"marked\"][\"%d\" % out_keys[1]][\"values\"];\n"
   ]
  },
  {
   "cell_type": "markdown",
   "metadata": {},
   "source": [
    "### Exploratory histogram "
   ]
  },
  {
   "cell_type": "code",
   "execution_count": null,
   "metadata": {
    "scrolled": false
   },
   "outputs": [],
   "source": [
    "# plot, if useful\n",
    "data1 = np.fromiter(data1, np.float)\n",
    "data2 = np.fromiter(data2, np.float)\n",
    "n, bins, patches = plt.hist(data1, int(len(data1)/4), normed=1, histtype='stepfilled', alpha=0.75, label=title1)\n",
    "n2, bins2, patches2 = plt.hist(data2, int(len(data2)/4), normed=1, histtype='stepfilled', alpha=0.75, label=title2)\n",
    "plt.legend(bbox_to_anchor=(1.05, 1), loc=2, borderaxespad=0.)\n"
   ]
  },
  {
   "cell_type": "markdown",
   "metadata": {},
   "source": [
    "###  Null hypothesis: The 2 related or repeated samples have identical average (expected) values."
   ]
  },
  {
   "cell_type": "code",
   "execution_count": null,
   "metadata": {
    "scrolled": true
   },
   "outputs": [],
   "source": [
    "tstat, pval = scipy.stats.ttest_rel(data1, data2)[:2]\n",
    "pval = '< 0.0001' if pval < 0.0001 else \"{0:.4f}\".format(round(pval,4))\n",
    "print('='*32, '\\nt-statistic:\\t', round(tstat,3), '\\np-value:\\t', pval, '\\n'+'='*32)"
   ]
  },
  {
   "cell_type": "markdown",
   "metadata": {},
   "source": [
    "### T-test for related samples results"
   ]
  },
  {
   "cell_type": "code",
   "execution_count": null,
   "metadata": {},
   "outputs": [],
   "source": [
    "import pandas as pd\n",
    "df = pd.DataFrame(data=[round(tstat,2),pval], index=['Test Statistic', 'p-value'], columns=['T-Test result'])\n",
    "df"
   ]
  },
  {
   "cell_type": "code",
   "execution_count": null,
   "metadata": {},
   "outputs": [],
   "source": []
  }
 ],
 "metadata": {
  "kernelspec": {
   "display_name": "Python 2",
   "language": "python",
   "name": "python2"
  },
  "language_info": {
   "codemirror_mode": {
    "name": "ipython",
    "version": 2
   },
   "file_extension": ".py",
   "mimetype": "text/x-python",
   "name": "python",
   "nbconvert_exporter": "python",
   "pygments_lexer": "ipython2",
   "version": "2.7.12"
  }
 },
 "nbformat": 4,
 "nbformat_minor": 2
}
