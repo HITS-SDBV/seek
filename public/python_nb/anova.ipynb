{
    "cells": [
	{
	    "cell_type": "markdown",
	    "metadata": {},
	    "source": [
		"# One-way ANOVA test and pairwise comparisons with TukeyHSD confidence intervals"
	    ]
	},
	{
	    "cell_type": "code",
	    "execution_count": null,
	    "metadata": {
		"collapsed": true
	    },
	    "outputs": [],
	    "source": [
		"# imports and setting matplotlib style\n",
		"import numpy as np\n",
		"import scipy\n",
		"import scipy.stats\n",
		"import matplotlib.pyplot as plt\n",
		"from statsmodels.stats.multicomp import pairwise_tukeyhsd\n",
		"plt.style.use('ggplot')\n",
		"#print(plt.style.available)\n"
	    ]
	},
	{
	    "cell_type": "code",
	    "execution_count": null,
	    "metadata": {
		"collapsed": true,
		"scrolled": true
	    },
	    "outputs": [],
	    "source": [
		"#dummy data, to be replaced with real data\n",
		"keys = np.random.choice((0, 1, 2, 3), size=50)\n",
		"data = np.random.normal(2, 1, size=50)"
	    ]
	},
	{
	    "cell_type": "code",
	    "execution_count": null,
	    "metadata": {
		"collapsed": true,
		"scrolled": false
	    },
	    "outputs": [],
	    "source": [
		"# seperate the data according to keys into a dictionary\n",
		"data = np.fromiter(data, np.float)\n",
		"data_sep = {}\n",
		"for k,v in zip(keys, data): data_sep.setdefault(k,[]).append(v)"
	    ]
	},
	{
	    "cell_type": "code",
	    "execution_count": null,
	    "metadata": {
		"collapsed": true,
		"scrolled": false
	    },
	    "outputs": [],
	    "source": [
		"# histogram of data for covenience\n",
		"n, bins, patches = plt.hist(data_sep.values(), int(sum(map(len, data_sep.values()))/4), histtype='stepfilled', alpha=0.75, label=(str(lab) for lab in data_sep.keys()))\n",
		"plt.legend()\n",
		"plt.savefig(\"histograms.png\")\n",
		"plt.show()"
	    ]
	},
	{
	    "cell_type": "code",
	    "execution_count": null,
	    "metadata": {
		"collapsed": true,
		"scrolled": false
	    },
	    "outputs": [],
	    "source": [
		"# box plots of data for covenience\n",
		"plt.boxplot(data_sep.values())\n",
		"plt.violinplot(data_sep.values())\n",
		"plt.savefig(\"boxplots.png\")\n",
		"plt.show()"
	    ]
	},
	{
	    "cell_type": "markdown",
	    "metadata": {},
	    "source": [
		"# Results of anova and pairwise Tukey HSD"
	    ]
	},
	{
	    "cell_type": "code",
	    "execution_count": null,
	    "metadata": {
		"collapsed": true,
		"scrolled": true
	    },
	    "outputs": [],
	    "source": [
		"anova_results = scipy.stats.f_oneway(*data_sep.values())\n",
		"print anova_results[0], anova_results[1]"
	    ]
	},
	{
	    "cell_type": "code",
	    "execution_count": null,
	    "metadata": {
		"collapsed": true,
		"scrolled": true
	    },
	    "outputs": [],
	    "source": [
		"results = pairwise_tukeyhsd(data, keys)\n",
		"print results\n"
	    ]
	}
    ],
    "metadata": {
	"kernelspec": {
	    "display_name": "Python 2",
	    "language": "python",
	    "name": "python2"
	},
	"language_info": {
	    "codemirror_mode": {
		"name": "ipython",
		"version": 2
	    },
	    "file_extension": ".py",
	    "mimetype": "text/x-python",
	    "name": "python",
	    "nbconvert_exporter": "python",
	    "pygments_lexer": "ipython2",
	    "version": "2.7.12"
	}
    },
    "nbformat": 4,
    "nbformat_minor": 2
}
