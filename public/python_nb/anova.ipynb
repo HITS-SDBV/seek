{
 "cells": [
  {
   "cell_type": "markdown",
   "metadata": {},
   "source": [
    "# One-way ANOVA test and pairwise comparisons with TukeyHSD confidence intervals"
   ]
  },
  {
   "cell_type": "code",
   "execution_count": null,
   "metadata": {},
   "outputs": [],
   "source": [
    "# imports and setting matplotlib style\n",
    "import numpy as np\n",
    "import scipy\n",
    "import scipy.stats\n",
    "import matplotlib.pyplot as plt\n",
    "from statsmodels.stats.multicomp import pairwise_tukeyhsd\n",
    "plt.style.use('ggplot')\n",
    "#print(plt.style.available)\n"
   ]
  },
  {
   "cell_type": "code",
   "execution_count": null,
   "metadata": {
    "scrolled": true
   },
   "outputs": [],
   "source": [
    "\n",
    "import json\n",
    "\n",
    "seek_f = open('./seek-notebook-data-json20171118-30052-1s28yw1.json')\n",
    "# now read the file\n",
    "seek_f_content = seek_f.read();\n",
    "seek_f_json = json.loads(seek_f_content);\n",
    "\n",
    "# print for debugging purposes. Also interesting for the user, so leave in.\n",
    "print(seek_f_json)\n"
   ]
  },
  {
   "cell_type": "code",
   "execution_count": null,
   "metadata": {},
   "outputs": [],
   "source": [
    "marked = seek_f_json[\"marked\"];\n",
    "\n",
    "# https://stackoverflow.com/questions/354038/how-do-i-check-if-a-string-is-a-number-float\n",
    "def is_number(s):\n",
    "    try:\n",
    "        float(s)\n",
    "        return True\n",
    "    except ValueError:\n",
    "        return False\n",
    "\n",
    "# put the right keys into a file that \n",
    "def headlinify(j):\n",
    "    retval = dict()\n",
    "    for (k,v) in j.items():\n",
    "        \n",
    "        first = v[\"values\"][0];\n",
    "        effective_key = \"\";\n",
    "        if(not is_number(first)):\n",
    "            retval[first] = v[\"values\"][1:]\n",
    "            effective_key = first \n",
    "        else:\n",
    "            retval[k] = v;\n",
    "            effective_key = k;\n",
    "            \n",
    "        retval[effective_key] = list(map(float,filter(is_number,retval[effective_key])))\n",
    "            \n",
    "    return retval\n",
    "        \n",
    "    \n",
    "data_sep = headlinify(marked);\n"
   ]
  },
  {
   "cell_type": "code",
   "execution_count": null,
   "metadata": {},
   "outputs": [],
   "source": [
    "print(data_sep)"
   ]
  },
  {
   "cell_type": "code",
   "execution_count": null,
   "metadata": {
    "scrolled": false
   },
   "outputs": [],
   "source": [
    "# histogram of data for covenience\n",
    "n, bins, patches = plt.hist(data_sep.values(), int(sum(map(len, data_sep.values()))/4), histtype='stepfilled', alpha=0.75, label=(str(lab) for lab in data_sep.keys()))\n",
    "plt.legend()\n",
    "plt.show()"
   ]
  },
  {
   "cell_type": "code",
   "execution_count": null,
   "metadata": {
    "scrolled": false
   },
   "outputs": [],
   "source": [
    "# box plots of data for covenience\n",
    "plt.boxplot(data_sep.values())\n",
    "plt.violinplot(data_sep.values())\n",
    "plt.savefig(\"boxplots.png\")\n",
    "plt.show()"
   ]
  },
  {
   "cell_type": "markdown",
   "metadata": {},
   "source": [
    "# Results of anova and pairwise Tukey HSD"
   ]
  },
  {
   "cell_type": "code",
   "execution_count": null,
   "metadata": {
    "scrolled": true
   },
   "outputs": [],
   "source": [
    "anova_results = scipy.stats.f_oneway(*data_sep.values())\n",
    "print(anova_results)"
   ]
  },
  {
   "cell_type": "code",
   "execution_count": null,
   "metadata": {},
   "outputs": [],
   "source": [
    "data_sep.values()"
   ]
  },
  {
   "cell_type": "code",
   "execution_count": null,
   "metadata": {},
   "outputs": [],
   "source": [
    "def structure_for_tukeyhsd(sep):\n",
    "    values = []\n",
    "    groups = []\n",
    "    for k,l in sep.items():\n",
    "        for x in l:\n",
    "            values.append(x)\n",
    "            groups.append(k)\n",
    "    return (values,groups)\n",
    "            \n",
    "(values,groups) = structure_for_tukeyhsd(data_sep)"
   ]
  },
  {
   "cell_type": "code",
   "execution_count": null,
   "metadata": {
    "scrolled": true
   },
   "outputs": [],
   "source": [
    "results = pairwise_tukeyhsd(values,groups)\n",
    "results.plot_simultaneous()"
   ]
  },
  {
   "cell_type": "code",
   "execution_count": null,
   "metadata": {},
   "outputs": [],
   "source": [
    "results.summary()"
   ]
  }
 ],
 "metadata": {
  "kernelspec": {
   "display_name": "Python 2",
   "language": "python",
   "name": "python2"
  },
  "language_info": {
   "codemirror_mode": {
    "name": "ipython",
    "version": 3
   },
   "file_extension": ".py",
   "mimetype": "text/x-python",
   "name": "python",
   "nbconvert_exporter": "python",
   "pygments_lexer": "ipython3",
   "version": "3.5.2"
  }
 },
 "nbformat": 4,
 "nbformat_minor": 2
}
