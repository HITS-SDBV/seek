{
 "cells": [
  {
   "cell_type": "markdown",
   "metadata": {},
   "source": [
    "## Two-way ANOVA test\n",
    "Enables to test the effect of two factors at the same time a continuous variable. \n",
    "\n",
    "Restriction: the number of observations in each cell has to be equal"
   ]
  },
  {
   "cell_type": "code",
   "execution_count": null,
   "metadata": {},
   "outputs": [],
   "source": [
    "from collections import OrderedDict\n",
    "import numpy as np\n",
    "import matplotlib.pyplot as plt\n",
    "from statsmodels.graphics.factorplots import interaction_plot\n",
    "import statsmodels.api as sm\n",
    "import pandas as pd\n",
    "from scipy import stats\n",
    "import json\n",
    "import seaborn\n",
    "%matplotlib inline"
   ]
  },
  {
   "cell_type": "code",
   "execution_count": null,
   "metadata": {},
   "outputs": [],
   "source": [
    "seek_f = open('JSON_INPUT')"
   ]
  },
  {
   "cell_type": "code",
   "execution_count": null,
   "metadata": {},
   "outputs": [],
   "source": [
    "# check if input is a number by casting it to a float\n",
    "# https://stackoverflow.com/questions/354038/how-do-i-check-if-a-string-is-a-number-float\n",
    "def is_number(item):\n",
    "    try:\n",
    "        float(item)\n",
    "        return True\n",
    "    except ValueError:\n",
    "        return False\n",
    "\n",
    "# Returns True if item is either a number or a string (if it is castable to either float or string)\n",
    "def is_number_or_string(item):\n",
    "    try:\n",
    "        float(item)\n",
    "        return True\n",
    "    except ValueError:\n",
    "        str(item)\n",
    "        return True\n",
    "    except:\n",
    "        print \"Error: cannot cast value neither to float nor a string - \", item\n",
    "    return False\n",
    "\n",
    "# re-structure to get rid of spreadsheet junk and convert the values \n",
    "def restructure_as_ordered_dict(j):\n",
    "    retval = OrderedDict()\n",
    "    for (k,v) in j.items():\n",
    "        #Get the heading of each column \n",
    "        first = v[\"values\"][0].encode('utf-8');\n",
    "\n",
    "        #Create a new ordered dict with keys being the column headings, and the values being the column data\n",
    "        effective_key = \"\";\n",
    "        if(not is_number(first)):\n",
    "            retval[first] = v[\"values\"][1:] #the column data starts after the heading (row 1+)\n",
    "            effective_key = first \n",
    "        else:\n",
    "            retval[k] = v;\n",
    "            effective_key = k;\n",
    "        \n",
    "        #filter values by either string or numbers, and perform the actual conversion (map)\n",
    "        retval[effective_key] = list(map(lambda x: float(x) if is_number(x) else str(x),  \n",
    "                                         filter(is_number_or_string, retval[effective_key]) ) )\n",
    "\n",
    "    del retval[''] #remove index column\n",
    "    return retval\n",
    "\n",
    "# now read the file, parse content & create the proper DataFrame\n",
    "seek_f_content = seek_f.read();\n",
    "seek_f_json = json.loads(seek_f_content, object_pairs_hook=OrderedDict);\n",
    "\n",
    "marked = seek_f_json[\"marked\"];\n",
    "\n",
    "data_sep = restructure_as_ordered_dict(marked)\n",
    "data = pd.DataFrame(data_sep, columns=data_sep.keys())"
   ]
  },
  {
   "cell_type": "code",
   "execution_count": null,
   "metadata": {},
   "outputs": [],
   "source": [
    "# Prepare the needed info for 2-way ANOVA\n",
    "\n",
    "# return a single dataframe column (i) as a Series object using squeeze()\n",
    "def get_df_col(df,i):\n",
    "    return df.iloc[:,i:i+1].squeeze()\n",
    "\n",
    "# indexes in the Dataframe\n",
    "ci = 0    #continuous variable (dependent)\n",
    "f1_i = 1  #factor 1 column index (indepedent)\n",
    "f2_i = 2  #factor 2 column index (indepedent)\n",
    "\n",
    "# easy access to each column, prepared in a Series object \n",
    "ci_col = get_df_col(data, ci)   \n",
    "f1_col = get_df_col(data, f1_i) \n",
    "f2_col = get_df_col(data, f2_i) "
   ]
  },
  {
   "cell_type": "markdown",
   "metadata": {},
   "source": [
    "### Exploratory histogram "
   ]
  },
  {
   "cell_type": "code",
   "execution_count": null,
   "metadata": {},
   "outputs": [],
   "source": [
    "lab = \"N = %d\\nmean = %.1f\\nstd = %.1f\" %(len(ci_col), \n",
    "                                          np.mean(ci_col), \n",
    "                                          np.std(ci_col))\n",
    "labels = [lab]\n",
    "n, bins, patches = plt.hist(ci_col, alpha=0.5, label=labels)\n",
    "plt.legend(bbox_to_anchor=(1.05, 1), loc=2, borderaxespad=0.)\n",
    "plt.show()"
   ]
  },
  {
   "cell_type": "markdown",
   "metadata": {},
   "source": [
    "### Interaction plot"
   ]
  },
  {
   "cell_type": "code",
   "execution_count": null,
   "metadata": {},
   "outputs": [],
   "source": [
    "fig = interaction_plot(f2_col, f1_col, ci_col,\n",
    "             colors=['red','blue'], markers=['D','^'], ms=10)"
   ]
  },
  {
   "cell_type": "markdown",
   "metadata": {},
   "source": [
    "### Compute ANOVA "
   ]
  },
  {
   "cell_type": "code",
   "execution_count": null,
   "metadata": {},
   "outputs": [],
   "source": [
    "# calculate Degrees of Freedom (dof)\n",
    "N = len(ci_col)\n",
    "dof_a = len(f1_col.unique()) - 1     #factor 1\n",
    "dof_b = len(f2_col.unique()) - 1     #factor 2Fa\n",
    "dof_axb = dof_a*dof_b \n",
    "dof_w = N - (len(f1_col.unique())*len(f2_col.unique()))\n",
    "\n",
    "#calculate Sum of Squares for each factor (indepedent variables)\n",
    "grand_mean = ci_col.mean()\n",
    "ssq_a = sum([(data[f1_col ==l].len.mean()-grand_mean)**2 for l in f1_col])\n",
    "ssq_b = sum([(data[f2_col ==l].len.mean()-grand_mean)**2 for l in f2_col])\n",
    "\n",
    "#total Sum of Squares\n",
    "ssq_t = sum((ci_col - grand_mean)**2)\n",
    "\n",
    "#means in each treatment group, i.e each combination of the factors\n",
    "f1_dict = {f1_lvl: data[f1_col == f1_lvl] for f1_lvl in f1_col.unique()}    \n",
    "f1_x_f2_dict = { k: [get_df_col(v[get_df_col(v,f2_i) == f2_c] ,ci).mean() for f2_c in get_df_col(v,f2_i)] for k, v in f1_dict.iteritems()}    \n",
    "\n",
    "#get Sum of Squares Within (residuals)\n",
    "ssq_w = 0\n",
    "for k in f1_dict.keys():\n",
    "    ssq_w +=sum((get_df_col(f1_dict[k],ci)-f1_x_f2_dict[k])**2)\n",
    "\n",
    "#Sum of Squares of the interaction between the factors \n",
    "ssq_axb = ssq_t-ssq_a-ssq_b-ssq_w\n",
    "\n",
    "#Mean Squares\n",
    "ms_a = ssq_a/dof_a\n",
    "ms_b = ssq_b/dof_b\n",
    "ms_axb = ssq_axb/dof_axb\n",
    "ms_w = ssq_w/dof_w\n",
    "\n",
    "#F-ratio: the F-statistic is the mean square for each effect and the interaction divided by the mean square within\n",
    "f_a = ms_a/ms_w\n",
    "f_b = ms_b/ms_w\n",
    "f_axb = ms_axb/ms_w\n",
    "\n",
    "#P-values\n",
    "#scipy.stats method f.sf checks if the obtained F-ratios are above the critical value. \n",
    "#Null Hypotheses 1/2:  H0: no difference in means among the groups in factor 1/2\n",
    "p_a = stats.f.sf(f_a, dof_a, dof_w)\n",
    "p_b = stats.f.sf(f_b, dof_b, dof_w)\n",
    "#Null Hypothesis 3:  H0: no interaction \n",
    "p_axb = stats.f.sf(f_axb, dof_axb, dof_w)"
   ]
  },
  {
   "cell_type": "code",
   "execution_count": null,
   "metadata": {},
   "outputs": [],
   "source": [
    "results = {'sum_sq':[ssq_a, ssq_b, ssq_axb, ssq_w],\n",
    "          'dof':[dof_a, dof_b, dof_axb, dof_w],\n",
    "          'MS': [ms_a, ms_b, ms_axb, ms_w],\n",
    "          'F':[f_a, f_b, f_axb, 'NaN'],\n",
    "           'PR(>F)':[p_a, p_b, p_axb, 'NaN']}\n",
    "columns=['sum_sq', 'dof', 'MS', 'F', 'PR(>F)']\n",
    " \n",
    "aov_table1 = pd.DataFrame(results, columns=columns,\n",
    "                         index=[data.columns.values[f1_i], data.columns.values[f2_i], \n",
    "                         data.columns.values[f1_i]+\":\"+data.columns.values[f2_i], 'Residual'])\n"
   ]
  },
  {
   "cell_type": "code",
   "execution_count": null,
   "metadata": {
    "scrolled": true
   },
   "outputs": [],
   "source": [
    "aov_table1"
   ]
  },
  {
   "cell_type": "markdown",
   "metadata": {},
   "source": [
    "### QQplot of the residuals "
   ]
  },
  {
   "cell_type": "code",
   "execution_count": null,
   "metadata": {},
   "outputs": [],
   "source": [
    "# Get the residuals into a QQplot\n",
    "df_resid = pd.DataFrame()\n",
    "for k in f1_dict.keys():\n",
    "    #compute the residuals without sum of squares, turn to a dataframe\n",
    "    st =  ( (get_df_col(f1_dict[k],ci)-f1_x_f2_dict[k]) ).to_frame()   \n",
    "    df_resid = pd.concat([df_resid, st])\n",
    "\n",
    "sm.qqplot(df_resid[data.columns.values[ci]], line='s')\n",
    "plt.show()"
   ]
  },
  {
   "cell_type": "markdown",
   "metadata": {},
   "source": [
    "### Pairplot \n",
    "Hue based on factor 1"
   ]
  },
  {
   "cell_type": "code",
   "execution_count": null,
   "metadata": {},
   "outputs": [],
   "source": [
    "# Pairplot \n",
    "seaborn.pairplot(data, vars=[data.columns.values[ci], data.columns.values[f2_i]], kind='reg', hue=data.columns.values[f1_i])"
   ]
  }
 ],
 "metadata": {
  "kernelspec": {
   "display_name": "Python 2",
   "language": "python",
   "name": "python2"
  },
  "language_info": {
   "codemirror_mode": {
    "name": "ipython",
    "version": 2
   },
   "file_extension": ".py",
   "mimetype": "text/x-python",
   "name": "python",
   "nbconvert_exporter": "python",
   "pygments_lexer": "ipython2",
   "version": "2.7.12"
  }
 },
 "nbformat": 4,
 "nbformat_minor": 2
}
