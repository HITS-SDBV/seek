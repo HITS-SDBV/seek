{
    "cells": [
	{
	    "cell_type": "code",
	    "execution_count": null,
	    "metadata": {
		"collapsed": true
	    },
	    "outputs": [],
	    "source": [
		"import numpy as np\n",
		"import pandas as pd\n",
		"import scipy\n",
		"import scipy.stats\n",
		"import matplotlib.pyplot as plt\n",
		"plt.style.use('ggplot')"
	    ]
	},
	{
	    "cell_type": "code",
	    "execution_count": null,
	    "metadata": {
		"collapsed": true,
		"scrolled": true
	    },
	    "outputs": [],
	    "source": [
		"keys = np.random.choice((0, 1, 2, 3), size=50)\n",
		"data = np.random.normal(2, 1, size=50)"
	    ]
	},
	{
	    "cell_type": "code",
	    "execution_count": null,
	    "metadata": {
		"collapsed": true,
		"scrolled": false
	    },
	    "outputs": [],
	    "source": [
		"data = np.fromiter(data, np.float)\n",
		"data_sep = {}\n",
		"for k,v in zip(keys, data): data_sep.setdefault(k,[]).append(v)"
	    ]
	},
	{
	    "cell_type": "code",
	    "execution_count": null,
	    "metadata": {
		"collapsed": true,
		"scrolled": false
	    },
	    "outputs": [],
	    "source": [
		"n, bins, patches = plt.hist(data_sep.values(), int(sum(map(len, data_sep.values()))/4), histtype='stepfilled', alpha=0.75, label=(str(lab) for lab in data_sep.keys()))\n",
		"plt.legend()\n",
		"plt.savefig(\"histograms.png\")\n",
		"plt.show()"
	    ]
	},
	{
	    "cell_type": "code",
	    "execution_count": null,
	    "metadata": {
		"collapsed": true,
		"scrolled": false
	    },
	    "outputs": [],
	    "source": [
		"plt.boxplot(data_sep.values())\n",
		"plt.violinplot(data_sep.values())\n",
		"plt.savefig(\"boxplots.png\")\n",
		"plt.show()"
	    ]
	},
	{
	    "cell_type": "markdown",
	    "metadata": {},
	    "source": [
		"#### Was the data sampled from the same distribution?"
	    ]
	},
	{
	    "cell_type": "code",
	    "execution_count": null,
	    "metadata": {
		"collapsed": true,
		"scrolled": true
	    },
	    "outputs": [],
	    "source": [
		"scipy.stats.kruskal(*data_sep.values())\n"
	    ]
	}
    ],
    "metadata": {
	"kernelspec": {
	    "display_name": "Python 2",
	    "language": "python",
	    "name": "python2"
	},
	"language_info": {
	    "codemirror_mode": {
		"name": "ipython",
		"version": 2
	    },
	    "file_extension": ".py",
	    "mimetype": "text/x-python",
	    "name": "python",
	    "nbconvert_exporter": "python",
	    "pygments_lexer": "ipython2",
	    "version": "2.7.12"
	}
    },
    "nbformat": 4,
    "nbformat_minor": 2
}
