{
 "cells": [
  {
   "cell_type": "code",
   "execution_count": null,
   "metadata": {
    "collapsed": false,
    "deletable": true,
    "editable": true
   },
   "outputs": [],
   "source": [
    "import plotly\n",
    "import plotly.graph_objs as go\n",
    "from plotly.tools import FigureFactory as FF\n",
    "\n",
    "import numpy as np\n",
    "import pandas as pd\n",
    "from pandas.tools.plotting import table\n",
    "import pylab as plt\n",
    "import scipy\n",
    "import scipy.stats\n",
    "plotly.tools.set_credentials_file(username='hleonov', api_key='kiIBKG9xgZuxo5n1IDVr')\n",
    "%matplotlib inline"
   ]
  },
  {
   "cell_type": "code",
   "execution_count": null,
   "metadata": {
    "collapsed": false,
    "deletable": true,
    "editable": true,
    "scrolled": true
   },
   "outputs": [],
   "source": [
    "data1 = np.random.normal(0, 1, size=50)\n",
    "data2 = np.random.normal(2, 1, size=50)"
   ]
  },
  {
   "cell_type": "code",
   "execution_count": null,
   "metadata": {
    "collapsed": false,
    "deletable": true,
    "editable": true,
    "scrolled": false
   },
   "outputs": [],
   "source": [
    "data1=np.array(map(float, data1))\n",
    "data2=np.array(map(float, data2))\n",
    "n, bins, patches = plt.hist(data1, int(len(data1)/4), normed=1, histtype='stepfilled', alpha=0.75, label=\"Series 1\")\n",
    "n2, bins2, patches2 = plt.hist(data2, int(len(data2)/4), normed=1, histtype='stepfilled', alpha=0.75, label=\"Series 2\")\n",
    "plt.legend()\n",
    "plt.savefig(\"histograms.png\")\n",
    "plt.figure()\n"
   ]
  },
  {
   "cell_type": "markdown",
   "metadata": {
    "deletable": true,
    "editable": true
   },
   "source": [
    "#### Was the data sampled from the same distribution?"
   ]
  },
  {
   "cell_type": "code",
   "execution_count": null,
   "metadata": {
    "collapsed": false,
    "deletable": true,
    "editable": true,
    "scrolled": true
   },
   "outputs": [],
   "source": [
    "twosample_results = scipy.stats.ttest_ind(data1, data2)\n",
    "\n",
    "matrix_twosample = [\n",
    "    #['', 'Test Statistic', 'p-value'],\n",
    "    #['Sample Data', twosample_results[0], twosample_results[1]]\n",
    "    [twosample_results[0], twosample_results[1]]\n",
    "]\n",
    "\n",
    "df = pd.DataFrame(matrix_twosample)\n",
    "ax = plt.subplot(111, frame_on=False) # no visible frame // plt.subplots(figsize=(12, 2)) # set size frame\n",
    "ax.xaxis.set_visible(False)  # hide the x axis\n",
    "ax.yaxis.set_visible(False)  # hide the y axis\n",
    "tabla = table(ax, df, loc='center', colWidths=[0.3]*len(df.columns), colLabels = ['Test Statistic', 'p-value'], rowLabels=['Sample Data'])\n",
    "tabla.auto_set_font_size(False)\n",
    "tabla.set_fontsize(10)\n",
    "tabla.scale(1.2, 1.2)\n",
    "plt.savefig('table.png', transparent=True)\n",
    "plt.show()\n"
   ]
  }
 ],
 "metadata": {
  "kernelspec": {
   "display_name": "Python 2",
   "language": "python",
   "name": "python2"
  },
  "language_info": {
   "codemirror_mode": {
    "name": "ipython",
    "version": 2
   },
   "file_extension": ".py",
   "mimetype": "text/x-python",
   "name": "python",
   "nbconvert_exporter": "python",
   "pygments_lexer": "ipython2",
   "version": "2.7.11"
  }
 },
 "nbformat": 4,
 "nbformat_minor": 2
}
