{
 "cells": [
  {
   "cell_type": "code",
   "execution_count": 50,
   "metadata": {},
   "outputs": [],
   "source": [
    "import numpy as np\n",
    "import pylab as plt\n",
    "import scipy\n",
    "import scipy.stats\n",
    "import json\n",
    "%matplotlib inline"
   ]
  },
  {
   "cell_type": "code",
   "execution_count": 51,
   "metadata": {},
   "outputs": [
    {
     "name": "stdout",
     "output_type": "stream",
     "text": [
      "{'test': 'ttest', 'action': 'pythonize', 'marked': {'1': {'values': ['bl 25 mg', '3579.76865166576', '3489.49364276611', '3622.63287399187', '2530.12322573658', '3482.7076427172', '3466.8037901986', '3486.41606430717', '3435.16084892502', '3461.64664163952', '3604.1883915461', '3518.27795405577', '3426.10704898731', '3455.01629224461', '3484.60905482305', '3520.84179840152', '3416.15849110057', '3544.47371525755', '3688.44709982481', '3609.72282398433', '3558.51627051362', '3570.71474428701', '3373.610418502', '3537.85309016321', '3498.22759836998', '3529.00269382451'], 'key': 'D'}, '0': {'values': ['bl Kontrolle', '3533.05678872751', '3557.76737165814', '3582.55051616598', '3610.76495807908', '3588.32085681936', '3574.36786279139', '3612.17146696808', '3580.12178917346', '3510.34228960713', '3615.39116955649', '3534.86044754588', '3490.74082979899', '3549.49346303324', '3499.22072982818', '3626.74720386966', '3566.77773842558', '3472.79261886378', '3518.99438383347', '3553.56039601659', '3605.71083988622', '3620.19339804054', '3661.76183690112', '3507.51394724885', '3650.21195250604', '3877.27522667583'], 'key': 'C'}}, 'controller': 'data_files', 'id': '2'}\n"
     ]
    }
   ],
   "source": [
    "import json\n",
    "\n",
    "seek_f = open('./seek-notebook-data-json20171117-15106-oie3mw.json')\n",
    "# now read the file\n",
    "seek_f_content = seek_f.read();\n",
    "seek_f_json = json.loads(seek_f_content);\n",
    "\n",
    "# print for debugging purposes. Also interesting for the user, so leave in.\n",
    "print(seek_f_json)\n",
    "\n"
   ]
  },
  {
   "cell_type": "code",
   "execution_count": 52,
   "metadata": {},
   "outputs": [
    {
     "name": "stdout",
     "output_type": "stream",
     "text": [
      "[1, 0]\n"
     ]
    }
   ],
   "source": [
    "# unfortunately, js ships the JSON as strings\n",
    "# so we have to find out which integers are our array indices\n",
    "in_keys = seek_f_json[\"marked\"].keys()\n",
    "\n",
    "out_keys = list()\n",
    "for i in in_keys:\n",
    "    out_keys.append(int(i))\n",
    "    \n",
    "# Again: print to cell in order to simplify debugging\n",
    "print(out_keys)"
   ]
  },
  {
   "cell_type": "code",
   "execution_count": 53,
   "metadata": {},
   "outputs": [],
   "source": [
    "def float_if(x):\n",
    "    if(x):\n",
    "        return float(x)\n",
    "    else:\n",
    "        return(0)    \n",
    "    \n",
    "def is_float(x):\n",
    "    try:\n",
    "        _ = float(x)\n",
    "        return True;\n",
    "    except ValueError:\n",
    "        return False;\n",
    " "
   ]
  },
  {
   "cell_type": "code",
   "execution_count": 54,
   "metadata": {},
   "outputs": [],
   "source": [
    "title1 = seek_f_json[\"marked\"][\"%d\" % out_keys[0]][\"key\"];\n",
    "title2 = seek_f_json[\"marked\"][\"%d\" % out_keys[1]][\"key\"];\n",
    "if(not is_float(seek_f_json[\"marked\"][\"%d\" % out_keys[0]][\"values\"][0])):\n",
    "    title1 = seek_f_json[\"marked\"][\"%d\" % out_keys[0]][\"values\"][0];\n",
    "if(not is_float(seek_f_json[\"marked\"][\"%d\" % out_keys[1]][\"values\"][0])):\n",
    "    title2 = seek_f_json[\"marked\"][\"%d\" % out_keys[1]][\"values\"][0];\n",
    "\n"
   ]
  },
  {
   "cell_type": "code",
   "execution_count": 55,
   "metadata": {},
   "outputs": [
    {
     "name": "stdout",
     "output_type": "stream",
     "text": [
      "bl 25 mg\n"
     ]
    }
   ],
   "source": [
    "print(seek_f_json[\"marked\"][\"%d\" % out_keys[0]][\"values\"][0])"
   ]
  },
  {
   "cell_type": "code",
   "execution_count": 56,
   "metadata": {},
   "outputs": [],
   "source": [
    "# Now turn the string values from the array into double values\n",
    "for (i,j) in seek_f_json[\"marked\"].items():\n",
    "    seek_f_json[\"marked\"][i][\"values\"] = list(map(float_if,filter(is_float,j[\"values\"])))"
   ]
  },
  {
   "cell_type": "code",
   "execution_count": 57,
   "metadata": {
    "scrolled": true
   },
   "outputs": [],
   "source": [
    "\n",
    "\n",
    "# now, get out the relevant data for the t-test\n",
    "data1 =  seek_f_json[\"marked\"][\"%d\" % out_keys[0]][\"values\"];\n",
    "data2 =  seek_f_json[\"marked\"][\"%d\" % out_keys[1]][\"values\"];\n"
   ]
  },
  {
   "cell_type": "code",
   "execution_count": 58,
   "metadata": {
    "scrolled": false
   },
   "outputs": [
    {
     "data": {
      "text/plain": [
       "<matplotlib.legend.Legend at 0x7f8b01ad5b70>"
      ]
     },
     "execution_count": 58,
     "metadata": {},
     "output_type": "execute_result"
    },
    {
     "data": {
      "image/png": "[encoded data removed]",
      "text/plain": [
       "<matplotlib.figure.Figure at 0x7f8b01c74320>"
      ]
     },
     "metadata": {},
     "output_type": "display_data"
    }
   ],
   "source": [
    "# plot, if useful\n",
    "data1 = np.fromiter(data1, np.float)\n",
    "data2 = np.fromiter(data2, np.float)\n",
    "n, bins, patches = plt.hist(data1, int(len(data1)/4), normed=1, histtype='stepfilled', alpha=0.75, label=title1)\n",
    "n2, bins2, patches2 = plt.hist(data2, int(len(data2)/4), normed=1, histtype='stepfilled', alpha=0.75, label=title2)\n",
    "plt.legend()\n",
    "\n"
   ]
  },
  {
   "cell_type": "markdown",
   "metadata": {},
   "source": [
    "#### Was the data sampled from the same distribution?"
   ]
  },
  {
   "cell_type": "code",
   "execution_count": 59,
   "metadata": {
    "scrolled": true
   },
   "outputs": [
    {
     "name": "stdout",
     "output_type": "stream",
     "text": [
      "================================ \n",
      "t-statistic:\t -2.324 \n",
      "p-value:\t 0.024 \n",
      "================================\n"
     ]
    }
   ],
   "source": [
    "tstat, pval = scipy.stats.ttest_ind(data1, data2)[:2]\n",
    "pval = '< 0.01' if pval < 0.01 else round(pval,3)\n",
    "print('='*32, '\\nt-statistic:\\t', round(tstat,3), '\\np-value:\\t', pval, '\\n'+'='*32)"
   ]
  },
  {
   "cell_type": "code",
   "execution_count": null,
   "metadata": {},
   "outputs": [],
   "source": []
  },
  {
   "cell_type": "code",
   "execution_count": null,
   "metadata": {},
   "outputs": [],
   "source": []
  }
 ],
 "metadata": {
  "kernelspec": {
   "display_name": "Python 2",
   "language": "python",
   "name": "python2"
  },
  "language_info": {
   "codemirror_mode": {
    "name": "ipython",
    "version": 3
   },
   "file_extension": ".py",
   "mimetype": "text/x-python",
   "name": "python",
   "nbconvert_exporter": "python",
   "pygments_lexer": "ipython3",
   "version": "3.5.2"
  }
 },
 "nbformat": 4,
 "nbformat_minor": 2
}
