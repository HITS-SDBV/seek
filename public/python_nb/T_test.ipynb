{
    "cells": [
	{
	    "cell_type": "code",
	    "execution_count": null,
	    "metadata": {
		"collapsed": false,
		"deletable": true,
		"editable": true
	    },
	    "outputs": [],
	    "source": [
		"import numpy as np\n",
		"import pylab as plt\n",
		"import scipy\n",
		"import scipy.stats\n",
		"%matplotlib inline"
	    ]
	},
	{
	    "cell_type": "code",
	    "execution_count": null,
	    "metadata": {
		"collapsed": false,
		"deletable": true,
		"editable": true,
		"scrolled": true
	    },
	    "outputs": [],
	    "source": [
		"data1 = np.random.normal(0, 1, size=50)\n",
		"data2 = np.random.normal(2, 1, size=50)"
	    ]
	},
	{
	    "cell_type": "code",
	    "execution_count": null,
	    "metadata": {
		"collapsed": false,
		"deletable": true,
		"editable": true,
		"scrolled": false
	    },
	    "outputs": [],
	    "source": [
		"data1 = np.fromiter(data1, np.float)\n",
		"data2 = np.fromiter(data2, np.float)\n",
		"n, bins, patches = plt.hist(data1, int(len(data1)/4), normed=1, histtype='stepfilled', alpha=0.75, label=\"Series 1\")\n",
		"n2, bins2, patches2 = plt.hist(data2, int(len(data2)/4), normed=1, histtype='stepfilled', alpha=0.75, label=\"Series 2\")\n",
		"plt.legend()\n",
		"plt.savefig(\"histograms.png\")\n",
		"plt.figure()"
	    ]
	},
	{
	    "cell_type": "markdown",
	    "metadata": {
		"deletable": true,
		"editable": true
	    },
	    "source": [
		"#### Was the data sampled from the same distribution?"
	    ]
	},
	{
	    "cell_type": "code",
	    "execution_count": null,
	    "metadata": {
		"collapsed": false,
		"deletable": true,
		"editable": true,
		"scrolled": true
	    },
	    "outputs": [],
	    "source": [
		"tstat, pval = scipy.stats.ttest_ind(data1, data2)[:2]\n",
		"pval = '< 0.01' if pval < 0.01 else round(pval,3)\n",
		"print '='*32, '\\nt-statistic:\\t', round(tstat,3), '\\np-value:\\t', pval, '\\n', '='*32"
	    ]
	}
    ],
    "metadata": {
	"kernelspec": {
	    "display_name": "Python 2",
	    "language": "python",
	    "name": "python2"
	},
	"language_info": {
	    "codemirror_mode": {
		"name": "ipython",
		"version": 2
	    },
	    "file_extension": ".py",
	    "mimetype": "text/x-python",
	    "name": "python",
	    "nbconvert_exporter": "python",
	    "pygments_lexer": "ipython2",
	    "version": "2.7.11"
	}
    },
    "nbformat": 4,
    "nbformat_minor": 2
}
